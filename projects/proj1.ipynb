{
 "cells": [
  {
   "cell_type": "code",
   "execution_count": 225,
   "metadata": {},
   "outputs": [],
   "source": [
    "from urllib.parse import urlencode\n",
    "\n",
    "import requests\n",
    "from bs4 import BeautifulSoup"
   ]
  },
  {
   "cell_type": "markdown",
   "metadata": {},
   "source": [
    "A better way is to create a dataframe out of it (might do it tomorrow)"
   ]
  },
  {
   "cell_type": "code",
   "execution_count": 2,
   "metadata": {},
   "outputs": [],
   "source": [
    "url = 'https://www.senate.gov/legislative/LIS/roll_call_votes/vote1171/vote_117_1_00005.htm'\n",
    "response = requests.get(url)\n",
    "\n",
    "soup = BeautifulSoup(response.content, 'html.parser')"
   ]
  },
  {
   "cell_type": "code",
   "execution_count": 178,
   "metadata": {},
   "outputs": [],
   "source": [
    "first = soup.find('div',attrs={'class':'newspaperDisplay_3column'})\n",
    "names = first.span.text.split('\\n')"
   ]
  },
  {
   "cell_type": "code",
   "execution_count": 167,
   "metadata": {},
   "outputs": [
    {
     "data": {
      "text/plain": [
       "[['Warnock', 'D-GA', 'Yea'],\n",
       " ['Warren', 'D-MA', 'Yea'],\n",
       " ['Whitehouse', 'D-RI', 'Yea'],\n",
       " ['Wicker', 'R-MS', 'Yea'],\n",
       " ['Wyden', 'D-OR', 'Yea'],\n",
       " ['Young', 'R-IN', 'Yea']]"
      ]
     },
     "execution_count": 167,
     "metadata": {},
     "output_type": "execute_result"
    }
   ],
   "source": [
    "name_state_vote = [[i.split(\" (\")[0],i.split(\" (\")[1].split(')')[0].rstrip(\",',\"),i.split('), ')[1]] for i in names[:-2]]\n",
    "name_state_vote[-6:]"
   ]
  },
  {
   "cell_type": "markdown",
   "metadata": {},
   "source": [
    "Q8: How many Senators have their names starting with W? N"
   ]
  },
  {
   "cell_type": "code",
   "execution_count": 168,
   "metadata": {},
   "outputs": [
    {
     "data": {
      "text/plain": [
       "6"
      ]
     },
     "execution_count": 168,
     "metadata": {},
     "output_type": "execute_result"
    }
   ],
   "source": [
    "count_w = 0\n",
    "for i in name_state_vote:\n",
    "    if(i[0][0]=='W'):\n",
    "        count_w += 1\n",
    "count_w"
   ]
  },
  {
   "cell_type": "markdown",
   "metadata": {},
   "source": [
    "Q13: How many states have both Democrat senators? N"
   ]
  },
  {
   "cell_type": "code",
   "execution_count": 175,
   "metadata": {},
   "outputs": [
    {
     "data": {
      "text/plain": [
       "21"
      ]
     },
     "execution_count": 175,
     "metadata": {},
     "output_type": "execute_result"
    }
   ],
   "source": [
    "oned = sorted([i[1] for i in name_state_vote if 'D' == i[1][0]])\n",
    "#oned has all vals, set of oned will have only unique vals, their difference gives num of duplicates\n",
    "len(oned)-len(set(oned))"
   ]
  },
  {
   "cell_type": "markdown",
   "metadata": {},
   "source": [
    "Q6: How many states have both Republican senators? N"
   ]
  },
  {
   "cell_type": "code",
   "execution_count": 176,
   "metadata": {},
   "outputs": [
    {
     "data": {
      "text/plain": [
       "22"
      ]
     },
     "execution_count": 176,
     "metadata": {},
     "output_type": "execute_result"
    }
   ],
   "source": [
    "oner = sorted([i[1] for i in name_state_vote if 'R' == i[1][0]])\n",
    "len(oner)-len(set(oner))"
   ]
  },
  {
   "cell_type": "markdown",
   "metadata": {},
   "source": [
    "Q10: What is the highest absolute difference in percentage between yea and nay senators among the different parties? N"
   ]
  },
  {
   "cell_type": "code",
   "execution_count": 179,
   "metadata": {},
   "outputs": [
    {
     "data": {
      "text/plain": [
       "1.0"
      ]
     },
     "execution_count": 179,
     "metadata": {},
     "output_type": "execute_result"
    }
   ],
   "source": [
    "d_yea, d_nay, r_yea, r_nay, d_novo, r_novo = 0, 0, 0, 0, 0, 0\n",
    "for i in name_state_vote:\n",
    "    if(i[1][0] == 'D'):\n",
    "        if(i[2] == 'Yea'):\n",
    "            d_yea += 1\n",
    "        elif(i[2] == 'Nay'):\n",
    "            d_nay += 1\n",
    "        elif(i[2]=='Not Voting'):\n",
    "            d_novo +=  1\n",
    "    elif(i[1][0] == 'R'):\n",
    "        if(i[2] == 'Yea'):\n",
    "            r_yea += 1\n",
    "        elif(i[2] == 'Nay'):\n",
    "            r_nay += 1\n",
    "        elif(i[2]=='Not Voting'):\n",
    "            r_novo +=  1\n",
    "max((d_yea-d_nay)/(d_yea+d_nay), (r_yea-r_nay)/(r_yea+r_nay))"
   ]
  },
  {
   "cell_type": "markdown",
   "metadata": {},
   "source": [
    "\n",
    "Q2: How many republicans voted Yea? N"
   ]
  },
  {
   "cell_type": "code",
   "execution_count": 180,
   "metadata": {},
   "outputs": [
    {
     "data": {
      "text/plain": [
       "43"
      ]
     },
     "execution_count": 180,
     "metadata": {},
     "output_type": "execute_result"
    }
   ],
   "source": [
    "r_yea"
   ]
  },
  {
   "cell_type": "markdown",
   "metadata": {},
   "source": [
    "\n",
    "Q7: How many states have both Republican and Democrat senators? N"
   ]
  },
  {
   "cell_type": "code",
   "execution_count": 217,
   "metadata": {},
   "outputs": [
    {
     "data": {
      "text/plain": [
       "5.0"
      ]
     },
     "execution_count": 217,
     "metadata": {},
     "output_type": "execute_result"
    }
   ],
   "source": [
    "state_list = [(i[1].split('-')[1],i[1].split('-')[0]) for i in name_state_vote]\n",
    "state_list.sort()\n",
    "\n",
    "for i in set(state_list):\n",
    "    if(state_list.count(i)==2):\n",
    "        state_list.remove(i)\n",
    "        state_list.remove(i)\n",
    "\n",
    "ind_list = [i for i in state_list if i[1]=='I']\n",
    "#statelist has twice the num of states, indlist has num of independent senator states\n",
    "(len(state_list)/2)-len(ind_list)"
   ]
  },
  {
   "cell_type": "markdown",
   "metadata": {},
   "source": [
    "\n",
    "Q12: How many states voted all Nay? N"
   ]
  },
  {
   "cell_type": "code",
   "execution_count": 224,
   "metadata": {},
   "outputs": [
    {
     "data": {
      "text/plain": [
       "0"
      ]
     },
     "execution_count": 224,
     "metadata": {},
     "output_type": "execute_result"
    }
   ],
   "source": [
    "c = 0\n",
    "lis = [i[1][2:] for i in name_state_vote if i[2]=='Nay']\n",
    "for i in lis:\n",
    "    if(lis.count(i)>1):\n",
    "        c+=1\n",
    "c"
   ]
  },
  {
   "cell_type": "markdown",
   "metadata": {},
   "source": [
    "\n",
    "Q14: How many senators did not vote? N"
   ]
  },
  {
   "cell_type": "code",
   "execution_count": 181,
   "metadata": {},
   "outputs": [
    {
     "data": {
      "text/plain": [
       "5"
      ]
     },
     "execution_count": 181,
     "metadata": {},
     "output_type": "execute_result"
    }
   ],
   "source": [
    "d_novo+r_novo"
   ]
  },
  {
   "cell_type": "markdown",
   "metadata": {},
   "source": [
    "\n",
    "Q1: How many democrats did not vote? N"
   ]
  },
  {
   "cell_type": "code",
   "execution_count": 182,
   "metadata": {},
   "outputs": [
    {
     "data": {
      "text/plain": [
       "0"
      ]
     },
     "execution_count": 182,
     "metadata": {},
     "output_type": "execute_result"
    }
   ],
   "source": [
    "d_novo"
   ]
  },
  {
   "cell_type": "markdown",
   "metadata": {},
   "source": [
    "\n",
    "Q3: What's the total number of Yea votes from all senators whose name starts with \"B\"? N"
   ]
  },
  {
   "cell_type": "code",
   "execution_count": 203,
   "metadata": {},
   "outputs": [
    {
     "data": {
      "text/plain": [
       "10"
      ]
     },
     "execution_count": 203,
     "metadata": {},
     "output_type": "execute_result"
    }
   ],
   "source": [
    "len([i for i in name_state_vote if i[0][0]=='B' and i[2]=='Yea'])"
   ]
  }
 ],
 "metadata": {
  "interpreter": {
   "hash": "8c3d4d9970fc5c09c50d9318a9c7fbf4d0159e4b28833276f5678ee22bded273"
  },
  "kernelspec": {
   "display_name": "Python 3.10.5 64-bit",
   "language": "python",
   "name": "python3"
  },
  "language_info": {
   "codemirror_mode": {
    "name": "ipython",
    "version": 3
   },
   "file_extension": ".py",
   "mimetype": "text/x-python",
   "name": "python",
   "nbconvert_exporter": "python",
   "pygments_lexer": "ipython3",
   "version": "3.10.5"
  },
  "orig_nbformat": 4
 },
 "nbformat": 4,
 "nbformat_minor": 2
}
