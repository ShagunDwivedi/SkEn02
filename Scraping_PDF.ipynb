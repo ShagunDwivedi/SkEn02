{
 "cells": [
  {
   "cell_type": "code",
   "execution_count": 1,
   "metadata": {},
   "outputs": [],
   "source": [
    "from bs4 import BeautifulSoup as bs\n",
    "import tabula\n",
    "import requests\n",
    "import urllib.request\n",
    "import pandas as pd\n",
    "from urllib.parse import urljoin\n",
    "import os"
   ]
  },
  {
   "cell_type": "code",
   "execution_count": 18,
   "metadata": {},
   "outputs": [],
   "source": [
    "url = 'https://www.premierleague.com/publications'\n",
    "pdf_locat = './PDFs'\n"
   ]
  },
  {
   "cell_type": "code",
   "execution_count": 19,
   "metadata": {},
   "outputs": [],
   "source": [
    "response = requests.get(url)\n",
    "soup = bs(response.text, 'html.parser')"
   ]
  },
  {
   "cell_type": "code",
   "execution_count": 22,
   "metadata": {},
   "outputs": [],
   "source": [
    "for i in soup.select(\"a[href$='.pdf']\"):\n",
    "    #print(i['href'].split('/')[-1])\n",
    "    #if(i['href'].split('/')[-1]=='This-is-PL-Interactive-Combined.pdf'):\n",
    "    filename = os.path.join(pdf_locat, i['href'].split('/')[-1])\n",
    "        #if(filename == './PDFs\\This-is-PL-Interactive-Combined.pdf'):\n",
    "    with open(filename, 'wb') as f:\n",
    "        f.write(requests.get(urljoin(url,i['href'])).content)\n"
   ]
  },
  {
   "cell_type": "code",
   "execution_count": null,
   "metadata": {},
   "outputs": [],
   "source": [
    "pdf = tabula.read_pdf(filename, pages='18')"
   ]
  }
 ],
 "metadata": {
  "interpreter": {
   "hash": "8c3d4d9970fc5c09c50d9318a9c7fbf4d0159e4b28833276f5678ee22bded273"
  },
  "kernelspec": {
   "display_name": "Python 3.10.5 64-bit",
   "language": "python",
   "name": "python3"
  },
  "language_info": {
   "codemirror_mode": {
    "name": "ipython",
    "version": 3
   },
   "file_extension": ".py",
   "mimetype": "text/x-python",
   "name": "python",
   "nbconvert_exporter": "python",
   "pygments_lexer": "ipython3",
   "version": "3.10.5"
  },
  "orig_nbformat": 4
 },
 "nbformat": 4,
 "nbformat_minor": 2
}
