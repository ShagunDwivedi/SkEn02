{
 "cells": [
  {
   "cell_type": "code",
   "execution_count": 1,
   "metadata": {},
   "outputs": [],
   "source": [
    "from pandas_profiling import ProfileReport\n",
    "import pandas as pd"
   ]
  },
  {
   "cell_type": "code",
   "execution_count": 4,
   "metadata": {},
   "outputs": [
    {
     "data": {
      "text/html": [
       "<div>\n",
       "<style scoped>\n",
       "    .dataframe tbody tr th:only-of-type {\n",
       "        vertical-align: middle;\n",
       "    }\n",
       "\n",
       "    .dataframe tbody tr th {\n",
       "        vertical-align: top;\n",
       "    }\n",
       "\n",
       "    .dataframe thead th {\n",
       "        text-align: right;\n",
       "    }\n",
       "</style>\n",
       "<table border=\"1\" class=\"dataframe\">\n",
       "  <thead>\n",
       "    <tr style=\"text-align: right;\">\n",
       "      <th></th>\n",
       "      <th>City[a]</th>\n",
       "      <th>Country</th>\n",
       "      <th>UN 2018 population estimates[b]</th>\n",
       "      <th>City proper[c] Definition</th>\n",
       "      <th>City proper[c] Population</th>\n",
       "      <th>City proper[c] Area (km2)</th>\n",
       "      <th>City proper[c] Density (/km2)</th>\n",
       "      <th>Metropolitan area[d] Population</th>\n",
       "      <th>Metropolitan area[d] Area (km2)</th>\n",
       "      <th>Metropolitan area[d] Density (/km2)</th>\n",
       "      <th>Urban area[12] Population</th>\n",
       "      <th>Urban area[12] Area (km2)</th>\n",
       "      <th>Urban area[12] Density (/km2)</th>\n",
       "    </tr>\n",
       "  </thead>\n",
       "  <tbody>\n",
       "    <tr>\n",
       "      <th>0</th>\n",
       "      <td>Tokyo</td>\n",
       "      <td>Japan</td>\n",
       "      <td>37400068</td>\n",
       "      <td>Metropolis prefecture</td>\n",
       "      <td>13515271.0</td>\n",
       "      <td>2191.0</td>\n",
       "      <td>6169.0</td>\n",
       "      <td>37274000.0</td>\n",
       "      <td>13452.0</td>\n",
       "      <td>2771.0</td>\n",
       "      <td>39105000.0</td>\n",
       "      <td>8231.0</td>\n",
       "      <td>4751.0</td>\n",
       "    </tr>\n",
       "    <tr>\n",
       "      <th>1</th>\n",
       "      <td>Delhi</td>\n",
       "      <td>India</td>\n",
       "      <td>28514000</td>\n",
       "      <td>Capital City</td>\n",
       "      <td>16753235.0</td>\n",
       "      <td>1484.0</td>\n",
       "      <td>11289.0</td>\n",
       "      <td>29000000.0</td>\n",
       "      <td>3483.0</td>\n",
       "      <td>8326.0</td>\n",
       "      <td>31870000.0</td>\n",
       "      <td>2233.0</td>\n",
       "      <td>14272.0</td>\n",
       "    </tr>\n",
       "    <tr>\n",
       "      <th>2</th>\n",
       "      <td>Seoul</td>\n",
       "      <td>South Korea</td>\n",
       "      <td>25674800</td>\n",
       "      <td>Special city</td>\n",
       "      <td>10013781.0</td>\n",
       "      <td>605.0</td>\n",
       "      <td>16208.0</td>\n",
       "      <td>25514000.0</td>\n",
       "      <td>11704.0</td>\n",
       "      <td>2180.0</td>\n",
       "      <td>22394000.0</td>\n",
       "      <td>2769.0</td>\n",
       "      <td>8087.0</td>\n",
       "    </tr>\n",
       "    <tr>\n",
       "      <th>3</th>\n",
       "      <td>Shanghai</td>\n",
       "      <td>China</td>\n",
       "      <td>25582000</td>\n",
       "      <td>Municipality</td>\n",
       "      <td>24870895.0</td>\n",
       "      <td>6341.0</td>\n",
       "      <td>3922.0</td>\n",
       "      <td>NaN</td>\n",
       "      <td>NaN</td>\n",
       "      <td>NaN</td>\n",
       "      <td>22118000.0</td>\n",
       "      <td>4069.0</td>\n",
       "      <td>5436.0</td>\n",
       "    </tr>\n",
       "    <tr>\n",
       "      <th>4</th>\n",
       "      <td>São Paulo</td>\n",
       "      <td>Brazil</td>\n",
       "      <td>21650000</td>\n",
       "      <td>Municipality</td>\n",
       "      <td>12252023.0</td>\n",
       "      <td>1521.0</td>\n",
       "      <td>8055.0</td>\n",
       "      <td>21734682.0</td>\n",
       "      <td>7947.0</td>\n",
       "      <td>2735.0</td>\n",
       "      <td>22495000.0</td>\n",
       "      <td>3237.0</td>\n",
       "      <td>6949.0</td>\n",
       "    </tr>\n",
       "  </tbody>\n",
       "</table>\n",
       "</div>"
      ],
      "text/plain": [
       "     City[a]      Country  UN 2018 population estimates[b]  \\\n",
       "0      Tokyo        Japan                         37400068   \n",
       "1      Delhi        India                         28514000   \n",
       "2      Seoul  South Korea                         25674800   \n",
       "3   Shanghai        China                         25582000   \n",
       "4  São Paulo       Brazil                         21650000   \n",
       "\n",
       "  City proper[c] Definition  City proper[c] Population  \\\n",
       "0     Metropolis prefecture                 13515271.0   \n",
       "1              Capital City                 16753235.0   \n",
       "2              Special city                 10013781.0   \n",
       "3              Municipality                 24870895.0   \n",
       "4              Municipality                 12252023.0   \n",
       "\n",
       "   City proper[c] Area (km2)  City proper[c] Density (/km2)  \\\n",
       "0                     2191.0                         6169.0   \n",
       "1                     1484.0                        11289.0   \n",
       "2                      605.0                        16208.0   \n",
       "3                     6341.0                         3922.0   \n",
       "4                     1521.0                         8055.0   \n",
       "\n",
       "   Metropolitan area[d] Population  Metropolitan area[d] Area (km2)  \\\n",
       "0                       37274000.0                          13452.0   \n",
       "1                       29000000.0                           3483.0   \n",
       "2                       25514000.0                          11704.0   \n",
       "3                              NaN                              NaN   \n",
       "4                       21734682.0                           7947.0   \n",
       "\n",
       "   Metropolitan area[d] Density (/km2)  Urban area[12] Population  \\\n",
       "0                               2771.0                 39105000.0   \n",
       "1                               8326.0                 31870000.0   \n",
       "2                               2180.0                 22394000.0   \n",
       "3                                  NaN                 22118000.0   \n",
       "4                               2735.0                 22495000.0   \n",
       "\n",
       "   Urban area[12] Area (km2)  Urban area[12] Density (/km2)  \n",
       "0                     8231.0                         4751.0  \n",
       "1                     2233.0                        14272.0  \n",
       "2                     2769.0                         8087.0  \n",
       "3                     4069.0                         5436.0  \n",
       "4                     3237.0                         6949.0  "
      ]
     },
     "execution_count": 4,
     "metadata": {},
     "output_type": "execute_result"
    }
   ],
   "source": [
    "df =pd.read_csv('./assets/ExcelScraping_Final.csv', encoding='latin-1')\n",
    "df.head()"
   ]
  },
  {
   "cell_type": "code",
   "execution_count": 6,
   "metadata": {},
   "outputs": [
    {
     "data": {
      "application/vnd.jupyter.widget-view+json": {
       "model_id": "319b8502ad354b209a8f3a2c57c3ba23",
       "version_major": 2,
       "version_minor": 0
      },
      "text/plain": [
       "Summarize dataset:   0%|          | 0/5 [00:00<?, ?it/s]"
      ]
     },
     "metadata": {},
     "output_type": "display_data"
    },
    {
     "data": {
      "application/vnd.jupyter.widget-view+json": {
       "model_id": "019521e44673424f9b1218f7ebf45ac9",
       "version_major": 2,
       "version_minor": 0
      },
      "text/plain": [
       "Generate report structure:   0%|          | 0/1 [00:00<?, ?it/s]"
      ]
     },
     "metadata": {},
     "output_type": "display_data"
    },
    {
     "data": {
      "application/vnd.jupyter.widget-view+json": {
       "model_id": "304b13aa1bf1436abbf40e23749337e2",
       "version_major": 2,
       "version_minor": 0
      },
      "text/plain": [
       "Render HTML:   0%|          | 0/1 [00:00<?, ?it/s]"
      ]
     },
     "metadata": {},
     "output_type": "display_data"
    },
    {
     "data": {
      "application/vnd.jupyter.widget-view+json": {
       "model_id": "f086d921e20d4a9c919558415d48b015",
       "version_major": 2,
       "version_minor": 0
      },
      "text/plain": [
       "Export report to file:   0%|          | 0/1 [00:00<?, ?it/s]"
      ]
     },
     "metadata": {},
     "output_type": "display_data"
    }
   ],
   "source": [
    "ProfileReport(df).to_file('./results/report.html')"
   ]
  }
 ],
 "metadata": {
  "interpreter": {
   "hash": "8c3d4d9970fc5c09c50d9318a9c7fbf4d0159e4b28833276f5678ee22bded273"
  },
  "kernelspec": {
   "display_name": "Python 3.10.5 64-bit",
   "language": "python",
   "name": "python3"
  },
  "language_info": {
   "codemirror_mode": {
    "name": "ipython",
    "version": 3
   },
   "file_extension": ".py",
   "mimetype": "text/x-python",
   "name": "python",
   "nbconvert_exporter": "python",
   "pygments_lexer": "ipython3",
   "version": "3.10.5"
  },
  "orig_nbformat": 4
 },
 "nbformat": 4,
 "nbformat_minor": 2
}
