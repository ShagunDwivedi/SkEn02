{
 "cells": [
  {
   "cell_type": "code",
   "execution_count": 1,
   "metadata": {},
   "outputs": [],
   "source": [
    "from bs4 import BeautifulSoup\n",
    "import requests\n",
    "import pandas as pd"
   ]
  },
  {
   "cell_type": "code",
   "execution_count": 3,
   "metadata": {},
   "outputs": [],
   "source": [
    "req = requests.get('https://www.goodreads.com/list/show/13086.Goodreads_Top_100_Literary_Novels_of_All_Time')\n",
    "soup = BeautifulSoup(req.content)"
   ]
  },
  {
   "cell_type": "code",
   "execution_count": 50,
   "metadata": {},
   "outputs": [],
   "source": [
    "books = soup.find('table', attrs={'class':'tableList js-dataTooltip'})\n",
    "good_title = books.find_all(class_='bookTitle')\n",
    "good_author = books.find_all(class_='authorName')\n",
    "good_rating = books.find_all(class_='minirating')"
   ]
  },
  {
   "cell_type": "code",
   "execution_count": 89,
   "metadata": {},
   "outputs": [],
   "source": [
    "title = [i.span.text for i in good_title]\n",
    "author = [i.span.text for i in good_author]\n",
    "rating = []\n",
    "ratingnumber = []\n",
    "for i in good_rating:\n",
    "    rating.append(i.text.lstrip(\" \").strip(\"really liked it\").split(\" \")[0])\n",
    "    ratingnumber.append(i.text.lstrip(\" \").strip(\"really liked it\").split(\" \")[4])\n"
   ]
  },
  {
   "cell_type": "code",
   "execution_count": 92,
   "metadata": {},
   "outputs": [
    {
     "data": {
      "text/html": [
       "<div>\n",
       "<style scoped>\n",
       "    .dataframe tbody tr th:only-of-type {\n",
       "        vertical-align: middle;\n",
       "    }\n",
       "\n",
       "    .dataframe tbody tr th {\n",
       "        vertical-align: top;\n",
       "    }\n",
       "\n",
       "    .dataframe thead th {\n",
       "        text-align: right;\n",
       "    }\n",
       "</style>\n",
       "<table border=\"1\" class=\"dataframe\">\n",
       "  <thead>\n",
       "    <tr style=\"text-align: right;\">\n",
       "      <th></th>\n",
       "      <th>Book Title</th>\n",
       "      <th>Author Name</th>\n",
       "      <th>Rating</th>\n",
       "      <th>No.of Ratings</th>\n",
       "    </tr>\n",
       "  </thead>\n",
       "  <tbody>\n",
       "    <tr>\n",
       "      <th>95</th>\n",
       "      <td>The Death of Virgil</td>\n",
       "      <td>Hermann Broch</td>\n",
       "      <td>4.17</td>\n",
       "      <td>1,353</td>\n",
       "    </tr>\n",
       "    <tr>\n",
       "      <th>96</th>\n",
       "      <td>Middlesex</td>\n",
       "      <td>Jeffrey Eugenides</td>\n",
       "      <td>4.02</td>\n",
       "      <td>616,455</td>\n",
       "    </tr>\n",
       "    <tr>\n",
       "      <th>97</th>\n",
       "      <td>Native Son</td>\n",
       "      <td>Richard Wright</td>\n",
       "      <td>4.01</td>\n",
       "      <td>95,021</td>\n",
       "    </tr>\n",
       "    <tr>\n",
       "      <th>98</th>\n",
       "      <td>The Tunnel</td>\n",
       "      <td>William H. Gass</td>\n",
       "      <td>4.00</td>\n",
       "      <td>1,628</td>\n",
       "    </tr>\n",
       "    <tr>\n",
       "      <th>99</th>\n",
       "      <td>Darconville's Cat</td>\n",
       "      <td>Alexander Theroux</td>\n",
       "      <td>4.28</td>\n",
       "      <td>509</td>\n",
       "    </tr>\n",
       "  </tbody>\n",
       "</table>\n",
       "</div>"
      ],
      "text/plain": [
       "             Book Title        Author Name Rating No.of Ratings\n",
       "95  The Death of Virgil      Hermann Broch   4.17         1,353\n",
       "96            Middlesex  Jeffrey Eugenides   4.02       616,455\n",
       "97           Native Son     Richard Wright   4.01        95,021\n",
       "98           The Tunnel    William H. Gass   4.00         1,628\n",
       "99    Darconville's Cat  Alexander Theroux   4.28           509"
      ]
     },
     "execution_count": 92,
     "metadata": {},
     "output_type": "execute_result"
    }
   ],
   "source": [
    "zipping = zip(title,author,rating,ratingnumber)\n",
    "df = pd.DataFrame(list(zipping), columns=['Book Title', 'Author Name', 'Rating', 'No.of Ratings'])\n",
    "df.tail()"
   ]
  }
 ],
 "metadata": {
  "interpreter": {
   "hash": "8c3d4d9970fc5c09c50d9318a9c7fbf4d0159e4b28833276f5678ee22bded273"
  },
  "kernelspec": {
   "display_name": "Python 3.10.5 64-bit",
   "language": "python",
   "name": "python3"
  },
  "language_info": {
   "codemirror_mode": {
    "name": "ipython",
    "version": 3
   },
   "file_extension": ".py",
   "mimetype": "text/x-python",
   "name": "python",
   "nbconvert_exporter": "python",
   "pygments_lexer": "ipython3",
   "version": "3.10.5"
  },
  "orig_nbformat": 4
 },
 "nbformat": 4,
 "nbformat_minor": 2
}
